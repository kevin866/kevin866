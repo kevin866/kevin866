{
  "nbformat": 4,
  "nbformat_minor": 0,
  "metadata": {
    "colab": {
      "name": "ebay ml competition.ipynb",
      "provenance": [],
      "machine_shape": "hm",
      "authorship_tag": "ABX9TyMC+956uBtWiiCy5I8mI0tM",
      "include_colab_link": true
    },
    "kernelspec": {
      "name": "python3",
      "display_name": "Python 3"
    },
    "language_info": {
      "name": "python"
    },
    "accelerator": "GPU",
    "gpuClass": "standard"
  },
  "cells": [
    {
      "cell_type": "markdown",
      "metadata": {
        "id": "view-in-github",
        "colab_type": "text"
      },
      "source": [
        "<a href=\"https://colab.research.google.com/github/kevin866/kevin866/blob/main/ebay_ml_competition.ipynb\" target=\"_parent\"><img src=\"https://colab.research.google.com/assets/colab-badge.svg\" alt=\"Open In Colab\"/></a>"
      ]
    },
    {
      "cell_type": "code",
      "source": [
        "from google.colab import drive\n",
        "drive.mount('/content/drive')\n"
      ],
      "metadata": {
        "id": "PjMn66TwxjiS"
      },
      "execution_count": null,
      "outputs": []
    },
    {
      "cell_type": "code",
      "source": [
        "#import gzip\n",
        "#import shutil\n",
        "#with gzip.open('/content/drive/MyDrive/eBay_ML_Challenge_Dataset_2022/Listing_Titles.tsv.gz', 'rb') as f_in:\n",
        " #   with open('/content/drive/MyDrive/eBay_ML_Challenge_Dataset_2022/Listing_Titles.tsv', 'wb') as f_out:\n",
        " #       shutil.copyfileobj(f_in, f_out)\n",
        "#unzip the gz file and copy it to the directory"
      ],
      "metadata": {
        "id": "gaOx0hsi6S_b"
      },
      "execution_count": null,
      "outputs": []
    },
    {
      "cell_type": "code",
      "source": [
        "import pandas as pd\n",
        "import numpy as np\n",
        "import tensorflow as tf\n",
        "from keras import layers"
      ],
      "metadata": {
        "id": "iFJRCikJ162U"
      },
      "execution_count": null,
      "outputs": []
    },
    {
      "cell_type": "code",
      "source": [
        "!pip install -U spacy -q"
      ],
      "metadata": {
        "id": "z6THtlYm1yH-"
      },
      "execution_count": null,
      "outputs": []
    },
    {
      "cell_type": "code",
      "source": [
        "!python -m venv .env\n",
        "!.env\\Scripts\\activate\n",
        "!pip install -U pip setuptools wheel\n",
        "!pip install -U 'spacy[cuda113,transformers,lookups]'\n",
        "!python -m spacy download en_core_web_sm"
      ],
      "metadata": {
        "id": "47VGT9Qo4fIa"
      },
      "execution_count": null,
      "outputs": []
    },
    {
      "cell_type": "code",
      "source": [
        ""
      ],
      "metadata": {
        "id": "y82nY_WNjfXk"
      },
      "execution_count": null,
      "outputs": []
    },
    {
      "cell_type": "code",
      "source": [
        "import spacy\n",
        "nlp = spacy.load(\"en_core_web_sm\")"
      ],
      "metadata": {
        "id": "YQoSa7Df267e"
      },
      "execution_count": null,
      "outputs": []
    },
    {
      "cell_type": "code",
      "source": [
        ""
      ],
      "metadata": {
        "id": "aX--S1Bvebro"
      },
      "execution_count": null,
      "outputs": []
    },
    {
      "cell_type": "code",
      "source": [
        "!python -m spacy info"
      ],
      "metadata": {
        "id": "0eeBznBU1k6O"
      },
      "execution_count": null,
      "outputs": []
    },
    {
      "cell_type": "code",
      "source": [
        "from spacy.tokens import DocBin\n",
        "db = DocBin()"
      ],
      "metadata": {
        "id": "nQy-Y3lO0_Hz"
      },
      "execution_count": null,
      "outputs": []
    },
    {
      "cell_type": "code",
      "source": [
        "from tqdm import tqdm"
      ],
      "metadata": {
        "id": "3VgGaxxBz4A9"
      },
      "execution_count": null,
      "outputs": []
    },
    {
      "cell_type": "code",
      "source": [
        "train_path = '/content/drive/MyDrive/eBay_ML_Challenge_Dataset_2022/Train_Tagged_Titles.tsv'"
      ],
      "metadata": {
        "id": "UcghSWCg2fuj"
      },
      "execution_count": null,
      "outputs": []
    },
    {
      "cell_type": "code",
      "source": [
        "train_df = pd.read_csv(train_path, sep='\\t', engine='python',quoting=3)"
      ],
      "metadata": {
        "id": "xsecPM9f1EeG"
      },
      "execution_count": null,
      "outputs": []
    },
    {
      "cell_type": "code",
      "source": [
        "Listing_path = '/content/drive/MyDrive/eBay_ML_Challenge_Dataset_2022/Listing_Titles.tsv'"
      ],
      "metadata": {
        "id": "PWXcb9BA5Gz0"
      },
      "execution_count": null,
      "outputs": []
    },
    {
      "cell_type": "code",
      "source": [
        "Listing_df = pd.read_csv(Listing_path, sep='\\\\\\t', engine='python')"
      ],
      "metadata": {
        "id": "NIZjeFso4lGN"
      },
      "execution_count": null,
      "outputs": []
    },
    {
      "cell_type": "code",
      "source": [
        "tags = pd.DataFrame(train_df['Tag'].unique()).dropna()"
      ],
      "metadata": {
        "id": "42v_pvst1Pz1"
      },
      "execution_count": null,
      "outputs": []
    },
    {
      "cell_type": "code",
      "source": [
        "tags = np.ravel(np.array(tags).tolist())"
      ],
      "metadata": {
        "id": "WUgO-EcqmhiX"
      },
      "execution_count": null,
      "outputs": []
    },
    {
      "cell_type": "code",
      "source": [
        "train = Listing_df.iloc[:5000]['Title']"
      ],
      "metadata": {
        "id": "h_7RAM2GEtFo"
      },
      "execution_count": null,
      "outputs": []
    },
    {
      "cell_type": "code",
      "source": [
        "def merge_tagged_identities(train_df):\n",
        "  train_df = pd.DataFrame(train_df)\n",
        "  drop = []\n",
        "  processed = train_df.copy(deep=True)\n",
        "  count = 0\n",
        "  for i, j in train_df.iterrows():\n",
        "    if str(j[3]) == 'nan':\n",
        "      count += 1\n",
        "      drop.append(i)\n",
        "    elif count > 0:\n",
        "      processed.iat[i-count-1,2]=\" \".join([processed.iloc[i-j][2] for j in range(1,count+2)][::-1])\n",
        "      count = 0\n",
        "  processed=processed[processed['Tag'].notna()]\n",
        "  return processed"
      ],
      "metadata": {
        "id": "IoTQcwPa-zux"
      },
      "execution_count": null,
      "outputs": []
    },
    {
      "cell_type": "code",
      "source": [
        "processed = processed.reset_index(drop = True)"
      ],
      "metadata": {
        "id": "fl1BA5PB-9WC"
      },
      "execution_count": null,
      "outputs": []
    },
    {
      "cell_type": "code",
      "source": [
        "processed.head()"
      ],
      "metadata": {
        "id": "it66UlWNC7GP"
      },
      "execution_count": null,
      "outputs": []
    },
    {
      "cell_type": "code",
      "source": [
        "def extract_entites(train_df):\n",
        "  processed = merge_tagged_identities(train_df)\n",
        "  all_ent = []\n",
        "  pos = 0\n",
        "  ent = {'entites':[]}\n",
        "  for i, j in processed.iterrows():\n",
        "    if pos != 0:\n",
        "      pos = pos + 1\n",
        "    ent['entites'].append((pos, pos+len(j[2]), j[3]))\n",
        "    pos = pos+len(j[2])\n",
        "    if i+1 < len(processed):\n",
        "      if processed.iloc[i+1][\"Record Number\"]>j[0]:\n",
        "        pos = 0 \n",
        "        all_ent.append(ent)\n",
        "        ent = {'entites':[]}\n",
        "  all_ent.append(ent)\n",
        "  return all_ent"
      ],
      "metadata": {
        "id": "xGfpO4kQ_abf"
      },
      "execution_count": null,
      "outputs": []
    },
    {
      "cell_type": "code",
      "source": [
        "def merge_entites_w_data(train, train_df):\n",
        "  all_ent = extract_entites(train_df)\n",
        "  train = pd.DataFrame(train)\n",
        "  all_ent = pd.DataFrame(all_ent)\n",
        "  n_train = train.join(all_ent)\n",
        "  n_train['entites'] = n_train['entites'].apply(lambda x:{'entities': x})\n",
        "  exam = n_train.apply(lambda x : (x[0],x[1]), axis = 1)\n",
        "  exam = np.array(exam).tolist()\n",
        "  return exam"
      ],
      "metadata": {
        "id": "KRPQTPZ6_csS"
      },
      "execution_count": null,
      "outputs": []
    },
    {
      "cell_type": "code",
      "source": [
        "exam = merge_entites_w_data(train, train_df)\n",
        "training = exam[:4000]\n",
        "validation = exam[4000:]"
      ],
      "metadata": {
        "id": "HwSB7iNEB-Xj"
      },
      "execution_count": null,
      "outputs": []
    },
    {
      "cell_type": "code",
      "source": [
        "import json\n",
        "def convert_to_docbin(data, tags, filename):\n",
        "  data={\"annotations\":data,\"classes\": tags.tolist()} \n",
        "  data = json.dumps(data)\n",
        "  loaded_data = json.loads(data)\n",
        "  type(loaded_data) \n",
        "  for text, annot in tqdm(loaded_data[\"annotations\"]):\n",
        "    doc = nlp.make_doc(text)\n",
        "    ents = []\n",
        "    for start, end, label in annot[\"entities\"]:\n",
        "      span = doc.char_span(start, end, label = label, alignment_mode=\"contract\")\n",
        "      if span is None:\n",
        "        print(label)\n",
        "        print(\"skipping entity\")\n",
        "      else:\n",
        "        ents.append(span)\n",
        "    doc.ents = ents\n",
        "    db.add(doc)\n",
        "  db.to_disk(\"./drive/MyDrive/eBay_ML_Challenge_Dataset_2022/{}\".format(filename))\n",
        "\n",
        "\n"
      ],
      "metadata": {
        "id": "vdQ_tA8anhUq"
      },
      "execution_count": null,
      "outputs": []
    },
    {
      "cell_type": "code",
      "source": [
        "convert_to_docbin(training, tags, 'training.spacy')\n",
        "convert_to_docbin(validation, tags, 'validation.spacy')\n"
      ],
      "metadata": {
        "id": "loR7cTwWi-tz"
      },
      "execution_count": null,
      "outputs": []
    },
    {
      "cell_type": "code",
      "source": [
        "!python -m spacy init fill-config /content/drive/MyDrive/eBay_ML_Challenge_Dataset_2022/base_config.cfg config.cfg"
      ],
      "metadata": {
        "id": "HTLYX-XDzKyS"
      },
      "execution_count": null,
      "outputs": []
    },
    {
      "cell_type": "code",
      "source": [
        "!python -m spacy train config.cfg --output ./drive/MyDrive/eBay_ML_Challenge_Dataset_2022/output_4_1 --paths.train ./drive/MyDrive/eBay_ML_Challenge_Dataset_2022/training.spacy --paths.dev ./drive/MyDrive/eBay_ML_Challenge_Dataset_2022/validation.spacy"
      ],
      "metadata": {
        "id": "xTzmihDDzK3q"
      },
      "execution_count": null,
      "outputs": []
    },
    {
      "cell_type": "code",
      "source": [
        "import spacy\n",
        "nlp2 = spacy.load('/content/drive/MyDrive/eBay_ML_Challenge_Dataset_2022/output_4_1/model-best')"
      ],
      "metadata": {
        "id": "bVUun7Xv7Tmr"
      },
      "execution_count": null,
      "outputs": []
    },
    {
      "cell_type": "code",
      "source": [
        "label = processed[['Record Number','Token', 'Tag']].copy()\n",
        "quiz_data = Listing_df[:5000]"
      ],
      "metadata": {
        "id": "fBhp08nJAI4B"
      },
      "execution_count": null,
      "outputs": []
    },
    {
      "cell_type": "code",
      "source": [
        "def prediction(quiz_data):\n",
        "  column_names = ['Record number','Aspect Name', 'Aspect Value']\n",
        "  predicted = pd.DataFrame(columns = column_names)\n",
        "  count = 0\n",
        "  for i, j in quiz_data.iterrows():\n",
        "    doc2 = nlp2(j[1])\n",
        "    for ent in doc2.ents:\n",
        "      predicted.loc[count] = [j[0], ent.label_, ent.text] \n",
        "      count+=1\n",
        "  return predicted"
      ],
      "metadata": {
        "id": "AUsJraBXKISB"
      },
      "execution_count": null,
      "outputs": []
    },
    {
      "cell_type": "code",
      "source": [
        "def drop_tag(predicted):\n",
        "  predicted = predicted[predicted['Aspect Name'] != 'Obscure']\n",
        "  predicted = predicted[predicted['Aspect Name'] != 'No Tag']\n",
        "  predicted=predicted.set_index('Record number', drop = True)\n",
        "  return predicted"
      ],
      "metadata": {
        "id": "qKD0CxXA3YCL"
      },
      "execution_count": null,
      "outputs": []
    },
    {
      "cell_type": "code",
      "source": [
        "predicted = prediction(quiz_data)"
      ],
      "metadata": {
        "id": "AJpdt8tMJ7dS"
      },
      "execution_count": null,
      "outputs": []
    },
    {
      "cell_type": "code",
      "source": [
        "label.columns = [\"Record Number\",\"Aspect Name\",\"Aspect Value\"]"
      ],
      "metadata": {
        "id": "8e3YbFO-nWeh"
      },
      "execution_count": null,
      "outputs": []
    },
    {
      "cell_type": "code",
      "source": [
        ""
      ],
      "metadata": {
        "id": "DP39I6dHvehB"
      },
      "execution_count": null,
      "outputs": []
    },
    {
      "cell_type": "code",
      "source": [
        ""
      ],
      "metadata": {
        "id": "KRoysejhPi07"
      },
      "execution_count": null,
      "outputs": []
    },
    {
      "cell_type": "code",
      "source": [
        "len(predicted)"
      ],
      "metadata": {
        "id": "cinanGRUeGYC"
      },
      "execution_count": null,
      "outputs": []
    },
    {
      "cell_type": "code",
      "source": [
        "\n"
      ],
      "metadata": {
        "id": "AeieqFJKRWim"
      },
      "execution_count": null,
      "outputs": []
    },
    {
      "cell_type": "code",
      "source": [
        "\n"
      ],
      "metadata": {
        "id": "5hhWOlwBu2ys"
      },
      "execution_count": null,
      "outputs": []
    },
    {
      "cell_type": "code",
      "source": [
        "predicted.to_csv('/content/drive/MyDrive/eBay_ML_Challenge_Dataset_2022/quiz.tsv', header=None, sep=\"\\t\")"
      ],
      "metadata": {
        "id": "LLsrkDIVS0na"
      },
      "execution_count": null,
      "outputs": []
    }
  ]
}